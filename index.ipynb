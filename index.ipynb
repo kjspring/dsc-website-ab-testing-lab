{
 "cells": [
  {
   "cell_type": "markdown",
   "metadata": {},
   "source": [
    "# Website A/B Testing - Lab\n",
    "\n",
    "## Introduction\n",
    "\n",
    "In this lab, you'll get another chance to practice your skills at conducting a full A/B test analysis. It will also be a chance to practice your data exploration and processing skills! The scenario you'll be investigating is data collected from the homepage of a music app page for audacity.\n",
    "\n",
    "## Objectives\n",
    "\n",
    "You will be able to:\n",
    "* Analyze the data from a website A/B test to draw relevant conclusions\n",
    "* Explore and analyze web action data"
   ]
  },
  {
   "cell_type": "markdown",
   "metadata": {},
   "source": [
    "## Business Problem\n",
    "You are investigating the data collected from a homepage for a music app. We want to assess which website is better. \n",
    "\n",
    "Metric: \n",
    "- Interaction with the website (view/click)"
   ]
  },
  {
   "cell_type": "code",
   "execution_count": 1,
   "metadata": {},
   "outputs": [],
   "source": [
    "# import required libraries\n",
    "import pandas as pd\n",
    "import numpy as np\n",
    "import scipy.stats as stats\n",
    "import matplotlib.pyplot as plt\n",
    "%matplotlib inline\n",
    "import seaborn as sns"
   ]
  },
  {
   "cell_type": "markdown",
   "metadata": {},
   "source": [
    "## Exploratory Analysis\n",
    "\n",
    "Start by loading in the dataset stored in the file 'homepage_actions.csv'. Then conduct an exploratory analysis to get familiar with the data."
   ]
  },
  {
   "cell_type": "markdown",
   "metadata": {},
   "source": [
    "> Hints:\n",
    "    * Start investigating the id column:\n",
    "        * How many viewers also clicked?\n",
    "        * Are there any anomalies with the data; did anyone click who didn't view?\n",
    "        * Is there any overlap between the control and experiment groups? \n",
    "            * If so, how do you plan to account for this in your experimental design?"
   ]
  },
  {
   "cell_type": "code",
   "execution_count": 2,
   "metadata": {},
   "outputs": [
    {
     "name": "stdout",
     "output_type": "stream",
     "text": [
      "<class 'pandas.core.frame.DataFrame'>\n",
      "RangeIndex: 8188 entries, 0 to 8187\n",
      "Data columns (total 4 columns):\n",
      " #   Column     Non-Null Count  Dtype \n",
      "---  ------     --------------  ----- \n",
      " 0   timestamp  8188 non-null   object\n",
      " 1   id         8188 non-null   int64 \n",
      " 2   group      8188 non-null   object\n",
      " 3   action     8188 non-null   object\n",
      "dtypes: int64(1), object(3)\n",
      "memory usage: 256.0+ KB\n"
     ]
    }
   ],
   "source": [
    "#load data\n",
    "df = pd.read_csv('homepage_actions.csv')\n",
    "df.info()"
   ]
  },
  {
   "cell_type": "code",
   "execution_count": 3,
   "metadata": {},
   "outputs": [
    {
     "data": {
      "text/html": [
       "<div>\n",
       "<style scoped>\n",
       "    .dataframe tbody tr th:only-of-type {\n",
       "        vertical-align: middle;\n",
       "    }\n",
       "\n",
       "    .dataframe tbody tr th {\n",
       "        vertical-align: top;\n",
       "    }\n",
       "\n",
       "    .dataframe thead th {\n",
       "        text-align: right;\n",
       "    }\n",
       "</style>\n",
       "<table border=\"1\" class=\"dataframe\">\n",
       "  <thead>\n",
       "    <tr style=\"text-align: right;\">\n",
       "      <th></th>\n",
       "      <th>timestamp</th>\n",
       "      <th>id</th>\n",
       "      <th>group</th>\n",
       "      <th>action</th>\n",
       "    </tr>\n",
       "  </thead>\n",
       "  <tbody>\n",
       "    <tr>\n",
       "      <th>count</th>\n",
       "      <td>8188</td>\n",
       "      <td>8188.000000</td>\n",
       "      <td>8188</td>\n",
       "      <td>8188</td>\n",
       "    </tr>\n",
       "    <tr>\n",
       "      <th>unique</th>\n",
       "      <td>8188</td>\n",
       "      <td>NaN</td>\n",
       "      <td>2</td>\n",
       "      <td>2</td>\n",
       "    </tr>\n",
       "    <tr>\n",
       "      <th>top</th>\n",
       "      <td>2017-01-10 23:39:33.837271</td>\n",
       "      <td>NaN</td>\n",
       "      <td>control</td>\n",
       "      <td>view</td>\n",
       "    </tr>\n",
       "    <tr>\n",
       "      <th>freq</th>\n",
       "      <td>1</td>\n",
       "      <td>NaN</td>\n",
       "      <td>4264</td>\n",
       "      <td>6328</td>\n",
       "    </tr>\n",
       "    <tr>\n",
       "      <th>mean</th>\n",
       "      <td>NaN</td>\n",
       "      <td>564699.749878</td>\n",
       "      <td>NaN</td>\n",
       "      <td>NaN</td>\n",
       "    </tr>\n",
       "    <tr>\n",
       "      <th>std</th>\n",
       "      <td>NaN</td>\n",
       "      <td>219085.845672</td>\n",
       "      <td>NaN</td>\n",
       "      <td>NaN</td>\n",
       "    </tr>\n",
       "    <tr>\n",
       "      <th>min</th>\n",
       "      <td>NaN</td>\n",
       "      <td>182988.000000</td>\n",
       "      <td>NaN</td>\n",
       "      <td>NaN</td>\n",
       "    </tr>\n",
       "    <tr>\n",
       "      <th>25%</th>\n",
       "      <td>NaN</td>\n",
       "      <td>373637.500000</td>\n",
       "      <td>NaN</td>\n",
       "      <td>NaN</td>\n",
       "    </tr>\n",
       "    <tr>\n",
       "      <th>50%</th>\n",
       "      <td>NaN</td>\n",
       "      <td>566840.500000</td>\n",
       "      <td>NaN</td>\n",
       "      <td>NaN</td>\n",
       "    </tr>\n",
       "    <tr>\n",
       "      <th>75%</th>\n",
       "      <td>NaN</td>\n",
       "      <td>758078.000000</td>\n",
       "      <td>NaN</td>\n",
       "      <td>NaN</td>\n",
       "    </tr>\n",
       "    <tr>\n",
       "      <th>max</th>\n",
       "      <td>NaN</td>\n",
       "      <td>937217.000000</td>\n",
       "      <td>NaN</td>\n",
       "      <td>NaN</td>\n",
       "    </tr>\n",
       "  </tbody>\n",
       "</table>\n",
       "</div>"
      ],
      "text/plain": [
       "                         timestamp             id    group action\n",
       "count                         8188    8188.000000     8188   8188\n",
       "unique                        8188            NaN        2      2\n",
       "top     2017-01-10 23:39:33.837271            NaN  control   view\n",
       "freq                             1            NaN     4264   6328\n",
       "mean                           NaN  564699.749878      NaN    NaN\n",
       "std                            NaN  219085.845672      NaN    NaN\n",
       "min                            NaN  182988.000000      NaN    NaN\n",
       "25%                            NaN  373637.500000      NaN    NaN\n",
       "50%                            NaN  566840.500000      NaN    NaN\n",
       "75%                            NaN  758078.000000      NaN    NaN\n",
       "max                            NaN  937217.000000      NaN    NaN"
      ]
     },
     "execution_count": 3,
     "metadata": {},
     "output_type": "execute_result"
    }
   ],
   "source": [
    "df.describe(include='all') # Explore continuous and catagorical)"
   ]
  },
  {
   "cell_type": "code",
   "execution_count": 4,
   "metadata": {},
   "outputs": [
    {
     "data": {
      "text/html": [
       "<div>\n",
       "<style scoped>\n",
       "    .dataframe tbody tr th:only-of-type {\n",
       "        vertical-align: middle;\n",
       "    }\n",
       "\n",
       "    .dataframe tbody tr th {\n",
       "        vertical-align: top;\n",
       "    }\n",
       "\n",
       "    .dataframe thead th {\n",
       "        text-align: right;\n",
       "    }\n",
       "</style>\n",
       "<table border=\"1\" class=\"dataframe\">\n",
       "  <thead>\n",
       "    <tr style=\"text-align: right;\">\n",
       "      <th></th>\n",
       "      <th>timestamp</th>\n",
       "      <th>id</th>\n",
       "      <th>group</th>\n",
       "      <th>action</th>\n",
       "    </tr>\n",
       "  </thead>\n",
       "  <tbody>\n",
       "    <tr>\n",
       "      <th>8183</th>\n",
       "      <td>2017-01-18 09:11:41.984113</td>\n",
       "      <td>192060</td>\n",
       "      <td>experiment</td>\n",
       "      <td>view</td>\n",
       "    </tr>\n",
       "    <tr>\n",
       "      <th>8184</th>\n",
       "      <td>2017-01-18 09:42:12.844575</td>\n",
       "      <td>755912</td>\n",
       "      <td>experiment</td>\n",
       "      <td>view</td>\n",
       "    </tr>\n",
       "    <tr>\n",
       "      <th>8185</th>\n",
       "      <td>2017-01-18 10:01:09.026482</td>\n",
       "      <td>458115</td>\n",
       "      <td>experiment</td>\n",
       "      <td>view</td>\n",
       "    </tr>\n",
       "    <tr>\n",
       "      <th>8186</th>\n",
       "      <td>2017-01-18 10:08:51.588469</td>\n",
       "      <td>505451</td>\n",
       "      <td>control</td>\n",
       "      <td>view</td>\n",
       "    </tr>\n",
       "    <tr>\n",
       "      <th>8187</th>\n",
       "      <td>2017-01-18 10:24:08.629327</td>\n",
       "      <td>461199</td>\n",
       "      <td>control</td>\n",
       "      <td>view</td>\n",
       "    </tr>\n",
       "  </tbody>\n",
       "</table>\n",
       "</div>"
      ],
      "text/plain": [
       "                       timestamp      id       group action\n",
       "8183  2017-01-18 09:11:41.984113  192060  experiment   view\n",
       "8184  2017-01-18 09:42:12.844575  755912  experiment   view\n",
       "8185  2017-01-18 10:01:09.026482  458115  experiment   view\n",
       "8186  2017-01-18 10:08:51.588469  505451     control   view\n",
       "8187  2017-01-18 10:24:08.629327  461199     control   view"
      ]
     },
     "execution_count": 4,
     "metadata": {},
     "output_type": "execute_result"
    }
   ],
   "source": [
    "df.tail()"
   ]
  },
  {
   "cell_type": "code",
   "execution_count": 5,
   "metadata": {},
   "outputs": [
    {
     "data": {
      "text/plain": [
       "view     6328\n",
       "click    1860\n",
       "Name: action, dtype: int64"
      ]
     },
     "execution_count": 5,
     "metadata": {},
     "output_type": "execute_result"
    }
   ],
   "source": [
    "df.action.value_counts()"
   ]
  },
  {
   "cell_type": "code",
   "execution_count": 6,
   "metadata": {},
   "outputs": [
    {
     "data": {
      "text/plain": [
       "1860"
      ]
     },
     "execution_count": 6,
     "metadata": {},
     "output_type": "execute_result"
    }
   ],
   "source": [
    "len(df[df['action'] == 'click'])"
   ]
  },
  {
   "cell_type": "code",
   "execution_count": 7,
   "metadata": {},
   "outputs": [
    {
     "data": {
      "text/plain": [
       "0"
      ]
     },
     "execution_count": 7,
     "metadata": {},
     "output_type": "execute_result"
    }
   ],
   "source": [
    "# Complete duplicated rows\n",
    "df.duplicated().sum()"
   ]
  },
  {
   "cell_type": "code",
   "execution_count": 8,
   "metadata": {},
   "outputs": [
    {
     "data": {
      "text/plain": [
       "1860"
      ]
     },
     "execution_count": 8,
     "metadata": {},
     "output_type": "execute_result"
    }
   ],
   "source": [
    "# Duplicated id\n",
    "df.duplicated(subset=['id']).sum()\n",
    "#ids = df[\"id\"]\n",
    "#len(df[ids.isin(ids[ids.duplicated()])].sort_values(\"id\"))"
   ]
  },
  {
   "cell_type": "code",
   "execution_count": 9,
   "metadata": {},
   "outputs": [
    {
     "data": {
      "text/plain": [
       "timestamp    0\n",
       "id           0\n",
       "group        0\n",
       "action       0\n",
       "dtype: int64"
      ]
     },
     "execution_count": 9,
     "metadata": {},
     "output_type": "execute_result"
    }
   ],
   "source": [
    "# Any missing data?\n",
    "df.isna().sum()"
   ]
  },
  {
   "cell_type": "code",
   "execution_count": 10,
   "metadata": {},
   "outputs": [
    {
     "name": "stdout",
     "output_type": "stream",
     "text": [
      "Number of Clickers who didn't view: 0\n"
     ]
    }
   ],
   "source": [
    "# Are there any anomalies with the data; did anyone click who didn't view?\n",
    "viewed_id = df.loc[df['action'] == 'view', 'id']\n",
    "clicked_id = df.loc[df['action'] == 'click', 'id']\n",
    "\n",
    "anomaly = len(clicked_id[clicked_id.isin(~viewed_id)]) # are there any clickers ids not in viewers?\n",
    "\n",
    "print(\"Number of Clickers who didn't view: {}\".format(anomaly))\n"
   ]
  },
  {
   "cell_type": "code",
   "execution_count": 11,
   "metadata": {},
   "outputs": [
    {
     "name": "stdout",
     "output_type": "stream",
     "text": [
      "Number of Viewers who also clicked: 1860\n"
     ]
    }
   ],
   "source": [
    "# How many viewers also clicked?\n",
    "anomaly = len(viewed_id[viewed_id.isin(clicked_id)]) # are there any clickers ids not in viewers?\n",
    "\n",
    "print(\"Number of Viewers who also clicked: {}\".format(anomaly))"
   ]
  },
  {
   "cell_type": "code",
   "execution_count": 12,
   "metadata": {},
   "outputs": [
    {
     "name": "stdout",
     "output_type": "stream",
     "text": [
      "Number of overlap between experiment and control groups: 0\n"
     ]
    }
   ],
   "source": [
    "# Is there any overlap between the control and experiment groups?\n",
    "\n",
    "# Subset the data based on Control and Experiment website\n",
    "website_con_id = df.loc[df['group'] == 'control', 'id']\n",
    "website_exp_id = df.loc[df['group'] == 'experiment', 'id']\n",
    "\n",
    "overlap = len(website_exp_id[website_exp_id.isin(website_con_id)]) # any same ids in control and exp groups?\n",
    "print(\"Number of overlap between experiment and control groups: {}\".format(overlap))"
   ]
  },
  {
   "cell_type": "markdown",
   "metadata": {},
   "source": [
    "## Conduct a Statistical Test\n",
    "\n",
    "Conduct a statistical test to determine whether the experimental homepage was more effective than that of the control group."
   ]
  },
  {
   "cell_type": "markdown",
   "metadata": {},
   "source": [
    "### What statistical test to use?\n",
    "\n",
    "#### Data have\n",
    "- Count the number of users that viewed and clicked (1) versus only viewed (0).\n",
    "- Compare the counts between the two groups (websites)\n",
    "- Use a poisson"
   ]
  },
  {
   "cell_type": "markdown",
   "metadata": {},
   "source": [
    "One sensible formulation of the data to answer the hypothesis test above would be to create a binary variable representing each individual in the experiment and control group. This binary variable would represent whether or not that individual clicked on the homepage; 1 for they did and 0 if they did not. \n",
    "\n",
    "The variance for the number of successes in a sample of a binomial variable with n observations is given by:\n",
    "\n",
    "## $n\\bullet p (1-p)$\n",
    "\n",
    "Given this, perform 3 steps to verify the results of your statistical test:\n",
    "1. Calculate the expected number of clicks for the experiment group, if it had the same click-through rate as that of the control group. \n",
    "2. Calculate the number of standard deviations that the actual number of clicks was from this estimate. \n",
    "3. Finally, calculate a p-value using the normal distribution based on this z-score."
   ]
  },
  {
   "cell_type": "code",
   "execution_count": 13,
   "metadata": {},
   "outputs": [
    {
     "name": "stdout",
     "output_type": "stream",
     "text": [
      "Total Observations in control and experimental groups: 6328\n",
      "Total number of visitors in control group: 3332\n",
      "Total number of clickers in control group: 932\n",
      "\n",
      "Total number of visitors in experimental group: 2996\n",
      "Total number of clickers in experimental group: 928\n"
     ]
    }
   ],
   "source": [
    "#Subset the data into control and experimental groups\n",
    "website_con = df.loc[df['group'] == 'control']\n",
    "website_exp = df.loc[df['group'] == 'experiment']\n",
    "\n",
    "# Calculate the binary value of only viewed (0) or clicked (1)\n",
    "control_clicked = website_con.duplicated(subset=['id']).sum()\n",
    "control_total = len(set(website_con['id'].unique()))\n",
    "control_view_only = control_total - control_clicked\n",
    "\n",
    "exp_clicked = website_exp.duplicated(subset=['id']).sum()\n",
    "exp_total = len(set(website_exp['id'].unique()))\n",
    "exp_view_only = exp_total - exp_clicked\n",
    "\n",
    "print(\"Total Observations in control and experimental groups: {}\".format(control_total + exp_total))\n",
    "print(\"Total number of visitors in control group: {}\".format(control_total))\n",
    "print(\"Total number of clickers in control group: {}\\n\".format(control_clicked))\n",
    "print(\"Total number of visitors in experimental group: {}\".format(exp_total))\n",
    "print(\"Total number of clickers in experimental group: {}\".format(exp_clicked))"
   ]
  },
  {
   "cell_type": "markdown",
   "metadata": {},
   "source": [
    "### Step 1:\n",
    "Calculate the expected number of clicks for the experiment group, if it had the same click-through rate as that of the control group. "
   ]
  },
  {
   "cell_type": "code",
   "execution_count": 14,
   "metadata": {},
   "outputs": [
    {
     "name": "stdout",
     "output_type": "stream",
     "text": [
      "Expected number of clicks in the experimental group: 838\n",
      "Observed number of clicks in the experimental group: 928\n"
     ]
    }
   ],
   "source": [
    "expected_clicks = exp_total * (control_clicked / control_total)\n",
    "print(\"Expected number of clicks in the experimental group: %.0f\" %expected_clicks)\n",
    "print(\"Observed number of clicks in the experimental group: %.0f\" %exp_clicked)"
   ]
  },
  {
   "cell_type": "markdown",
   "metadata": {},
   "source": [
    "### Step 2:\n",
    "Calculate the Z-score (number of standard deviations) that the actual number of clicks was from this estimate."
   ]
  },
  {
   "cell_type": "code",
   "execution_count": 15,
   "metadata": {},
   "outputs": [
    {
     "name": "stdout",
     "output_type": "stream",
     "text": [
      "Standard deviation: 24.57\n",
      "Z-score: 3.66\n"
     ]
    }
   ],
   "source": [
    "# calculate variance\n",
    "p = control_clicked / control_total\n",
    "var = exp_total * p * (1-p)\n",
    "\n",
    "# calculate standard deviation\n",
    "stdev = np.sqrt(var)\n",
    "print(\"Standard deviation: %.2f\" %stdev)\n",
    "\n",
    "# calcualte z-score\n",
    "z_score = (exp_clicked - expected_clicks)/stdev\n",
    "print(\"Z-score: %.2f\" %z_score)"
   ]
  },
  {
   "cell_type": "markdown",
   "metadata": {},
   "source": [
    "### Step 3: \n",
    "Finally, calculate a p-value using the normal distribution based on this z-score."
   ]
  },
  {
   "cell_type": "code",
   "execution_count": 16,
   "metadata": {},
   "outputs": [
    {
     "name": "stdout",
     "output_type": "stream",
     "text": [
      "0.00012486528006951198\n"
     ]
    }
   ],
   "source": [
    "# Calculate p-value\n",
    "p_val = stats.norm.sf(z_score) #or 1 - stats.norm.cdf(z_score)\n",
    "print(p_val)"
   ]
  },
  {
   "cell_type": "markdown",
   "metadata": {},
   "source": [
    "### Analysis:\n",
    "\n",
    "Does this result roughly match that of the previous statistical test?\n",
    "\n",
    "> Comment: The p-value is less than the critical value of 0.05, thus we can reject the null hypothesis that the number of clicks in the experimental group is equal to the control group."
   ]
  },
  {
   "cell_type": "markdown",
   "metadata": {},
   "source": [
    "## Summary\n",
    "\n",
    "In this lab, you continued to get more practice designing and conducting AB tests. This required additional work preprocessing and formulating the initial problem in a suitable manner. Additionally, you also saw how to verify results, strengthening your knowledge of binomial variables, and reviewing initial statistical concepts of the central limit theorem, standard deviation, z-scores, and their accompanying p-values."
   ]
  }
 ],
 "metadata": {
  "kernelspec": {
   "display_name": "Python 3",
   "language": "python",
   "name": "python3"
  },
  "language_info": {
   "codemirror_mode": {
    "name": "ipython",
    "version": 3
   },
   "file_extension": ".py",
   "mimetype": "text/x-python",
   "name": "python",
   "nbconvert_exporter": "python",
   "pygments_lexer": "ipython3",
   "version": "3.8.5"
  }
 },
 "nbformat": 4,
 "nbformat_minor": 2
}
